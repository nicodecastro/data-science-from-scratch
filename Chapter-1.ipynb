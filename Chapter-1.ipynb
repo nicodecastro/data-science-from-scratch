{
 "cells": [
  {
   "cell_type": "markdown",
   "id": "7b36f915",
   "metadata": {},
   "source": [
    "# Chapter 1 - Introduction\n",
    "\n",
    "## Who is a data scientist?\n",
    "\n",
    "A data scientist is someone who extracts insights from messy data.\n",
    "\n",
    "Examples mentioned were the following:\n",
    "- OkCupid asking its members questions to find the most appropriate matches. But it also analyzes these results to figure out innocuous-sounding questions you can ask someone to find out how likely someone is to sleep with you on the first date.\n",
    "- Facebook asking you to list your hometown and current location, to make it easier for your friends to find and connect with you. But it also analyzes these results to identify global migration patterns and where the fanbases of different football teams live.\n",
    "- Target tracking your purchases and interactions. And it uses the data to predictively model which of its customers are pregnant, to better market baby-related purchases to them.\n",
    "- Obama campaign employing data scientists to data-mine and experiment to identify voters who needed extra attention, choosing optimal donor-specific fundraising appeals and programs, and focusing get-out-the-vote efforts where they were most likely to be useful.\n"
   ]
  },
  {
   "cell_type": "markdown",
   "id": "985d4395",
   "metadata": {},
   "source": [
    "# Finding Key Connectors"
   ]
  },
  {
   "cell_type": "code",
   "execution_count": 10,
   "id": "78b1f6c8",
   "metadata": {},
   "outputs": [],
   "source": [
    "users = [\n",
    "    { \"id\": 0, \"name\": \"Hero\" },\n",
    "    { \"id\": 1, \"name\": \"Dunn\" },\n",
    "    { \"id\": 2, \"name\": \"Sue\" },\n",
    "    { \"id\": 3, \"name\": \"Chi\" },\n",
    "    { \"id\": 4, \"name\": \"Thor\" },\n",
    "    { \"id\": 5, \"name\": \"Clive\" },\n",
    "    { \"id\": 6, \"name\": \"Hicks\" },\n",
    "    { \"id\": 7, \"name\": \"Devin\" },\n",
    "    { \"id\": 8, \"name\": \"Kate\" },\n",
    "    { \"id\": 9, \"name\": \"Klein\" },\n",
    "]\n",
    "\n",
    "friendships = [(0, 1), (0, 2), (1, 2), (1, 3), (2, 3), (3, 4),\n",
    "                (4, 5), (5, 6), (5, 7), (6, 8), (7, 8), (8, 9)]\n",
    "\n",
    "\n",
    "# Add a list of friends to each user\n",
    "for user in users:\n",
    "    user[\"friends\"] = []\n",
    "\n",
    "for i, j in friendships:\n",
    "    users[i][\"friends\"].append(users[j])\n",
    "    users[j][\"friends\"].append(users[i])\n",
    "\n",
    "# Find the average number of connections\n",
    "def number_of_friends(user):\n",
    "    return len(user[\"friends\"])\n",
    "\n",
    "total_connections = sum(number_of_friends(user) for user in users)    # 24\n",
    "\n",
    "num_users = len(users)\n",
    "avg_connections = total_connections / num_users     # 2.4\n",
    "\n",
    "# Sort from \"most friends\" to \"least friends\"\n",
    "num_friends_by_id = [(user[\"id\"], number_of_friends(user)) for user in users]\n",
    "\n",
    "sorted_num_friends_by_id = sorted(num_friends_by_id,\n",
    "                                    key=lambda id_friends_pair: id_friends_pair[1],\n",
    "                                    reverse=True)\n",
    "\n",
    "\n",
    "# Result: [(1, 3), (2, 3), (3, 3), (5, 3), (8, 3), (0, 2), (4, 2), (6, 2), (7, 2), (9, 1)]\n",
    "# print(sorted_num_friends_by_id)"
   ]
  },
  {
   "cell_type": "markdown",
   "id": "97fc6b73",
   "metadata": {},
   "source": [
    "What we just did is identify people who are somehow central to the network.\n",
    "\n",
    "What we computed is the network metric **degree centrality**"
   ]
  },
  {
   "cell_type": "markdown",
   "id": "f0c81d0c",
   "metadata": {},
   "source": [
    "# \"Data Scientists You May Know\" suggester"
   ]
  },
  {
   "cell_type": "code",
   "execution_count": 14,
   "id": "8284b18a",
   "metadata": {},
   "outputs": [
    {
     "name": "stdout",
     "output_type": "stream",
     "text": [
      "Counter({0: 2, 5: 1})\n"
     ]
    }
   ],
   "source": [
    "def friends_of_friend_ids_bad(user):\n",
    "    return [foaf[\"id\"]\n",
    "            for friend in user[\"friends\"]\n",
    "            for foaf in friend[\"friends\"]]\n",
    "\n",
    "# print(friends_of_friend_ids_bad(users[0]))\n",
    "\n",
    "'''\n",
    "Result: [0, 2, 3, 0, 1, 3]\n",
    "\n",
    "users[0] is Hero.\n",
    "His own id appears twice because he is himself is a friend of both his friends Dunn (users[1]) and Sue (users[2]).\n",
    "Chi (users[3]) also appears twice since she is the friend of both Dunn and Sue.\n",
    "'''\n",
    "\n",
    "from collections import Counter\n",
    "\n",
    "def not_the_same(user, other_user):\n",
    "    return user[\"id\"] != other_user[\"id\"]\n",
    "\n",
    "def not_friends(user, other_user):\n",
    "    return all(not_the_same(friend, other_user) for friend in user[\"friends\"])\n",
    "\n",
    "def friends_of_friend_ids(user):\n",
    "    return Counter(foaf[\"id\"]\n",
    "                    for friend in user[\"friends\"]   # for each of my friends\n",
    "                    for foaf in friend[\"friends\"]   # count their friends\n",
    "                    if not_the_same(user, foaf)     # who are not me\n",
    "                    and not_friends(user, foaf))    # and aren't my friends\n",
    "\n",
    "print(friends_of_friend_ids(users[3]))"
   ]
  },
  {
   "cell_type": "code",
   "execution_count": 33,
   "id": "9d426e4c",
   "metadata": {},
   "outputs": [
    {
     "name": "stdout",
     "output_type": "stream",
     "text": [
      "defaultdict(<class 'list'>, {'Hadoop': [0, 9], 'Big Data': [0, 8, 9], 'HBase': [0, 1], 'Java': [0, 5, 9], 'Spark': [0], 'Storm': [0], 'Cassandra': [0, 1], 'NoSQL': [1], 'MongoDB': [1], 'Postgres': [1], 'Python': [2, 3, 5], 'scikit-learn': [2, 7], 'scipy': [2], 'numpy': [2], 'statsmodels': [2], 'pandas': [2], 'R': [3, 5], 'statistics': [3, 6], 'regression': [3, 4], 'probability': [3, 6], 'machine learning': [4, 7], 'decision trees': [4], 'libsvm': [4], 'C++': [5], 'Haskell': [5], 'programming languages': [5], 'mathematics': [6], 'theory': [6], 'Mahout': [7], 'neural networks': [7, 8], 'deep learning': [8], 'artificial intelligence': [8], 'MapReduce': [9]})\n",
      "defaultdict(<class 'list'>, {0: ['Hadoop', 'Big Data', 'HBase', 'Java', 'Spark', 'Storm', 'Cassandra'], 1: ['NoSQL', 'MongoDB', 'Cassandra', 'HBase', 'Postgres'], 2: ['Python', 'scikit-learn', 'scipy', 'numpy', 'statsmodels', 'pandas'], 3: ['R', 'Python', 'statistics', 'regression', 'probability'], 4: ['machine learning', 'regression', 'decision trees', 'libsvm'], 5: ['Python', 'R', 'Java', 'C++', 'Haskell', 'programming languages'], 6: ['statistics', 'probability', 'mathematics', 'theory'], 7: ['machine learning', 'scikit-learn', 'Mahout', 'neural networks'], 8: ['neural networks', 'deep learning', 'Big Data', 'artificial intelligence'], 9: ['Hadoop', 'Java', 'MapReduce', 'Big Data']})\n",
      "Counter({9: 3, 1: 2, 8: 1, 5: 1})\n"
     ]
    }
   ],
   "source": [
    "interests = [\n",
    "    (0, \"Hadoop\"), (0, \"Big Data\"), (0, \"HBase\"), (0, \"Java\"), (0, \"Spark\"), (0, \"Storm\"), (0, \"Cassandra\"), (1, \"NoSQL\"), (1, \"MongoDB\"), (1, \"Cassandra\"), (1, \"HBase\"), (1, \"Postgres\"), (2, \"Python\"), (2, \"scikit-learn\"), (2, \"scipy\"), (2, \"numpy\"), (2, \"statsmodels\"), (2, \"pandas\"), (3, \"R\"), (3, \"Python\"), (3, \"statistics\"), (3, \"regression\"), (3, \"probability\"), (4, \"machine learning\"), (4, \"regression\"), (4, \"decision trees\"), (4, \"libsvm\"), (5, \"Python\"), (5, \"R\"), (5, \"Java\"), (5, \"C++\"), (5, \"Haskell\"), (5, \"programming languages\"), (6, \"statistics\"), (6, \"probability\"), (6, \"mathematics\"), (6, \"theory\"), (7, \"machine learning\"), (7, \"scikit-learn\"), (7, \"Mahout\"), (7, \"neural networks\"), (8, \"neural networks\"), (8, \"deep learning\"), (8, \"Big Data\"), (8, \"artificial intelligence\"), (9, \"Hadoop\"), (9, \"Java\"), (9, \"MapReduce\"), (9, \"Big Data\")\n",
    "]\n",
    "\n",
    "def data_scientists_who_like(target_interest):\n",
    "    return [user_id\n",
    "            for user_id, user_interest in interests\n",
    "            if user_interest == target_interest]\n",
    "\n",
    "# print(data_scientists_who_like(\"machine learning\"))\n",
    "\n",
    "from collections import defaultdict\n",
    "\n",
    "user_ids_by_interest = defaultdict(list)\n",
    "interests_by_user_id = defaultdict(list)\n",
    "\n",
    "for user_id, interest in interests:\n",
    "    user_ids_by_interest[interest].append(user_id)\n",
    "    interests_by_user_id[user_id].append(interest)\n",
    "\n",
    "def most_common_interests_with(user):\n",
    "    return Counter(interested_user_id\n",
    "                   for interest in interests_by_user_id[user[\"id\"]]\n",
    "                   for interested_user_id in user_ids_by_interest[interest]\n",
    "                   if interested_user_id != user[\"id\"])\n",
    "\n",
    "print(user_ids_by_interest)\n",
    "print(interests_by_user_id)\n",
    "\n",
    "print(most_common_interests_with(users[0]))"
   ]
  },
  {
   "cell_type": "markdown",
   "id": "ad54ef08",
   "metadata": {},
   "source": [
    "# Salaries and Experience"
   ]
  },
  {
   "cell_type": "code",
   "execution_count": 38,
   "id": "4042d089",
   "metadata": {},
   "outputs": [
    {
     "name": "stdout",
     "output_type": "stream",
     "text": [
      "{8.7: 83000.0, 8.1: 88000.0, 0.7: 48000.0, 6: 76000.0, 6.5: 69000.0, 7.5: 76000.0, 2.5: 60000.0, 10: 83000.0, 1.9: 48000.0, 4.2: 63000.0}\n",
      "{'more than five': 79166.66666666667, 'less than two': 48000.0, 'between two and five': 61500.0}\n"
     ]
    }
   ],
   "source": [
    "salaries_and_tenures = [( 83000 , 8.7 ), ( 88000 , 8.1 ), ( 48000 , 0.7 ), ( 76000 , 6 ), ( 69000 , 6.5 ), ( 76000 , 7.5 ), ( 60000 , 2.5 ), ( 83000 , 10 ), ( 48000 , 1.9 ), ( 63000 , 4.2 )]\n",
    "\n",
    "# keys are years, values are lists of the salaries for each tenure \n",
    "salary_by_tenure = defaultdict ( list ) \n",
    "for salary , tenure in salaries_and_tenures:\n",
    "    salary_by_tenure[tenure].append(salary) \n",
    "    \n",
    "# keys are years, each value is average salary for that tenure \n",
    "average_salary_by_tenure = {\n",
    "    tenure : sum(salaries) / len(salaries)\n",
    "    for tenure, salaries in salary_by_tenure.items()\n",
    "}\n",
    "\n",
    "print(average_salary_by_tenure)\n",
    "\n",
    "def tenure_bucket(tenure):\n",
    "    if tenure < 2:\n",
    "        return \"less than two\"\n",
    "    elif tenure < 5:\n",
    "        return \"between two and five\"\n",
    "    else:\n",
    "        return \"more than five\"\n",
    "    \n",
    "salary_by_tenure_bucket = defaultdict(list)\n",
    "\n",
    "for salary, tenure in salaries_and_tenures:\n",
    "    bucket = tenure_bucket(tenure)\n",
    "    salary_by_tenure_bucket[bucket].append(salary)\n",
    "\n",
    "average_salary_by_bucket = {\n",
    "    tenure_bucket : sum(salaries) / len(salaries)\n",
    "    for tenure_bucket, salaries in salary_by_tenure_bucket.items()\n",
    "}\n",
    "\n",
    "print(average_salary_by_bucket)"
   ]
  },
  {
   "cell_type": "markdown",
   "id": "1a1739fa",
   "metadata": {},
   "source": [
    "Your possible analysis could be: \"Data scientists with more than five years experience earn 65% more than data scientists with little or no experience!\""
   ]
  },
  {
   "cell_type": "markdown",
   "id": "e62c2423",
   "metadata": {},
   "source": [
    "# Topics of Interest"
   ]
  },
  {
   "cell_type": "code",
   "execution_count": 44,
   "id": "f8b3965d",
   "metadata": {},
   "outputs": [
    {
     "name": "stdout",
     "output_type": "stream",
     "text": [
      "big 3\n",
      "data 3\n",
      "java 3\n",
      "python 3\n",
      "learning 3\n",
      "hadoop 2\n",
      "hbase 2\n",
      "cassandra 2\n",
      "scikit-learn 2\n",
      "r 2\n",
      "statistics 2\n",
      "regression 2\n",
      "probability 2\n",
      "machine 2\n",
      "neural 2\n",
      "networks 2\n"
     ]
    }
   ],
   "source": [
    "words_and_counts = Counter(word\n",
    "                           for user, interest in interests\n",
    "                           for word in interest.lower().split())\n",
    "\n",
    "for word, count in words_and_counts.most_common():\n",
    "    if count > 1:\n",
    "        print(f\"{word} {count}\")"
   ]
  }
 ],
 "metadata": {
  "kernelspec": {
   "display_name": "Python 3 (ipykernel)",
   "language": "python",
   "name": "python3"
  },
  "language_info": {
   "codemirror_mode": {
    "name": "ipython",
    "version": 3
   },
   "file_extension": ".py",
   "mimetype": "text/x-python",
   "name": "python",
   "nbconvert_exporter": "python",
   "pygments_lexer": "ipython3",
   "version": "3.12.4"
  }
 },
 "nbformat": 4,
 "nbformat_minor": 5
}
